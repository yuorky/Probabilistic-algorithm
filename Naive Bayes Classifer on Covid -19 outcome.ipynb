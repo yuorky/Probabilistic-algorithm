{
  "nbformat": 4,
  "nbformat_minor": 0,
  "metadata": {
    "colab": {
      "name": "“657Aa2.ipynb”的副本",
      "provenance": [],
      "collapsed_sections": []
    },
    "kernelspec": {
      "display_name": "Python 3",
      "language": "python",
      "name": "python3"
    },
    "language_info": {
      "codemirror_mode": {
        "name": "ipython",
        "version": 3
      },
      "file_extension": ".py",
      "mimetype": "text/x-python",
      "name": "python",
      "nbconvert_exporter": "python",
      "pygments_lexer": "ipython3",
      "version": "3.7.4"
    }
  },
  "cells": [
    {
      "cell_type": "markdown",
      "metadata": {
        "id": "zPX9vu7nEFFv"
      },
      "source": [
        "## Question 2 Naive Bayes Classifier"
      ]
    },
    {
      "cell_type": "markdown",
      "metadata": {
        "id": "dWxPylqTEjlR"
      },
      "source": [
        "####Part 1 [CM4]"
      ]
    },
    {
      "cell_type": "code",
      "metadata": {
        "colab": {
          "base_uri": "https://localhost:8080/"
        },
        "id": "2tMZ6ASFDd32",
        "outputId": "6977394f-1809-4ace-ff73-6fd1c88567ee"
      },
      "source": [
        "# Data 1 Naive Bayes\n",
        "var_smoothing = [1e-10, 1e-9, 1e-5, 1e-3, 1e-1]\n",
        "nb_accuracy_seeds = []\n",
        "\n",
        "for value in var_smoothing:\n",
        "    nb_clf = GaussianNB(var_smoothing=value)\n",
        "    score = cross_val_score(nb_clf, X_seeds_train, y_seeds_train, cv=10)\n",
        "    nb_accuracy_seeds.append(np.mean(score))\n",
        "    print(np.mean(score))"
      ],
      "execution_count": null,
      "outputs": [
        {
          "output_type": "stream",
          "text": [
            "0.905\n",
            "0.905\n",
            "0.905\n",
            "0.9175000000000001\n",
            "0.8983333333333334\n"
          ],
          "name": "stdout"
        }
      ]
    },
    {
      "cell_type": "markdown",
      "metadata": {
        "id": "6jCreaJk-MbM"
      },
      "source": [
        "From the results of seeds dataset above, we can see that the highest validation accuracy (0.9175) is given by var_smoothing=1e-3. We then evaluate this on test set."
      ]
    },
    {
      "cell_type": "code",
      "metadata": {
        "colab": {
          "base_uri": "https://localhost:8080/"
        },
        "id": "gdiudIDW-o0Q",
        "outputId": "d5f55cd5-1124-48bf-d51b-ae6938212590"
      },
      "source": [
        "nb_clf = GaussianNB(var_smoothing=1e-3)\n",
        "nb_clf.fit(X_seeds_train,y_seeds_train)\n",
        "print(\"Test accuracy of Naive Bayes for seeds dataset: \",nb_clf.score(X_seeds_test,y_seeds_test))"
      ],
      "execution_count": null,
      "outputs": [
        {
          "output_type": "stream",
          "text": [
            "Test accuracy of Naive Bayes for seeds dataset:  0.925\n"
          ],
          "name": "stdout"
        }
      ]
    },
    {
      "cell_type": "code",
      "metadata": {
        "colab": {
          "base_uri": "https://localhost:8080/"
        },
        "id": "caVCraZ7Dd33",
        "outputId": "6fb92ad1-41b9-4209-cebc-e79c8f8e99fa"
      },
      "source": [
        "# Data 2 Naive Bayes\n",
        "var_smoothing = [1e-10, 1e-9, 1e-5, 1e-3, 1e-1]\n",
        "nb_accuracy_covid = []\n",
        "\n",
        "for value in var_smoothing:\n",
        "    nb_clf = GaussianNB(var_smoothing=value)\n",
        "    score = cross_val_score(nb_clf, X_covid_train, y_covid_train, cv=10)\n",
        "    nb_accuracy_covid.append(np.mean(score))\n",
        "    print(np.mean(score))"
      ],
      "execution_count": null,
      "outputs": [
        {
          "output_type": "stream",
          "text": [
            "0.4193573266629289\n",
            "0.4470896766866491\n",
            "0.5562277713086355\n",
            "0.6038837854544932\n",
            "0.6506952171475395\n"
          ],
          "name": "stdout"
        }
      ]
    },
    {
      "cell_type": "markdown",
      "metadata": {
        "id": "5AFHNALq_SNN"
      },
      "source": [
        "From the results of Covid dataset above, we can see that the highest validation accuracy (0.6507) is given by var_smoothing=1e-1. We then evaluate this on test set."
      ]
    },
    {
      "cell_type": "code",
      "metadata": {
        "colab": {
          "base_uri": "https://localhost:8080/"
        },
        "id": "cItHPzDg_jgQ",
        "outputId": "ce3ea7a8-6043-40cb-eca7-17d1bee4b48c"
      },
      "source": [
        "nb_clf_co = GaussianNB(var_smoothing=1e-1)\n",
        "nb_clf_co.fit(X_covid_train,y_covid_train)\n",
        "print(\"Test accuracy of Naive Bayes for Covid dataset: \",nb_clf_co.score(X_covid_test,y_covid_test))"
      ],
      "execution_count": null,
      "outputs": [
        {
          "output_type": "stream",
          "text": [
            "Test accuracy of Naive Bayes for Covid dataset:  0.6632756866734486\n"
          ],
          "name": "stdout"
        }
      ]
    },
    {
      "cell_type": "markdown",
      "metadata": {
        "id": "dLa3cymz_7Zl"
      },
      "source": [
        "`Var_smoothing` lets our users control the portion of the largest variance of all features which is added to variances for calculation stability. Since in Gaussian Naive Bayes classifier, we assume that features are sampled from a gaussian distribution.But if the features are actually not following a normal distribution, then we can add this smoothing to kind of 'flatten' the curves and accounts for more samples that are not close to the distribution mean.\n",
        "\n",
        "From the results of seeds dataset, we can see adding `var_smoothing` does not change the results dramatically, the accuracy does not change untill increasing `var_smoothing` to 1e-3, improving from 0.905 to 0.918, but soon decrease to 0.898 when we increase `var_smoothing` to 1e-1. This could implies that the distributions of the features of seed dataset are close to normal distribution, thus an appropriate smoothing in variance would help, but not in a daramtical way and too much smoothing would have a negative impact.\n",
        "\n",
        "From the results of Covid dataset, we can find the accuracy improves a lot with the increase of `var smoothing`. This is mainly because some features of Covid dataset are one hot encoding categorical features which do not follow a normal distribution, increasing `var_smoothing` would help smoothing the distribution curves thus improves the accuracy. With increasing of `var_smoothing`, the accuracy of 10-fold cross validation increases from 0.419 to 0.651."
      ]
    },
    {
      "cell_type": "markdown",
      "metadata": {
        "id": "qJgDe6hvEmpK"
      },
      "source": [
        "####Part 2"
      ]
    },
    {
      "cell_type": "markdown",
      "metadata": {
        "id": "Rv9cC74IixX4"
      },
      "source": [
        "**For seeds dataset**"
      ]
    },
    {
      "cell_type": "code",
      "metadata": {
        "colab": {
          "base_uri": "https://localhost:8080/"
        },
        "id": "5HISEi8oAM39",
        "outputId": "8584e7a2-9ee1-49de-b975-e0963e12efc6"
      },
      "source": [
        "nb_clf.sigma_"
      ],
      "execution_count": null,
      "outputs": [
        {
          "output_type": "execute_result",
          "data": {
            "text/plain": [
              "array([[1.47875621, 0.33480059, 0.00900017, 0.06201897, 0.04070806,\n",
              "        1.68445565, 0.07707704],\n",
              "       [1.92666615, 0.34365953, 0.0089558 , 0.06643817, 0.04222245,\n",
              "        1.45014661, 0.05757769],\n",
              "       [0.48677014, 0.11978259, 0.0091581 , 0.02713382, 0.0283718 ,\n",
              "        1.60318485, 0.03533927]])"
            ]
          },
          "metadata": {
            "tags": []
          },
          "execution_count": 21
        }
      ]
    },
    {
      "cell_type": "code",
      "metadata": {
        "colab": {
          "base_uri": "https://localhost:8080/"
        },
        "id": "kKhJ0l0thFld",
        "outputId": "61744d9e-0d89-48cb-9e8a-113fd389e5fa"
      },
      "source": [
        "nb_clf.theta_"
      ],
      "execution_count": null,
      "outputs": [
        {
          "output_type": "execute_result",
          "data": {
            "text/plain": [
              "array([[14.28269231, 14.26884615,  0.88000577,  5.49938462,  3.24076923,\n",
              "         2.75613846,  5.08213462],\n",
              "       [18.47509091, 16.20672727,  0.88255818,  6.18145455,  3.68961818,\n",
              "         3.66296364,  6.04552727],\n",
              "       [11.92980392, 13.26666667,  0.85106078,  5.23572549,  2.86598039,\n",
              "         4.59947059,  5.11607843]])"
            ]
          },
          "metadata": {
            "tags": []
          },
          "execution_count": 22
        }
      ]
    },
    {
      "cell_type": "code",
      "metadata": {
        "id": "wf30MOyRkcco"
      },
      "source": [
        "from sklearn.metrics import confusion_matrix"
      ],
      "execution_count": null,
      "outputs": []
    },
    {
      "cell_type": "code",
      "metadata": {
        "colab": {
          "base_uri": "https://localhost:8080/"
        },
        "id": "bBUYdIiRkfSQ",
        "outputId": "deb1685a-f176-48e0-8c4f-5f8c298e4da6"
      },
      "source": [
        "y_pred_seed = nb_clf.predict(X_seeds_test)\n",
        "conf_mat_seed = confusion_matrix(\n",
        "        y_seeds_test, y_pred_seed, labels = [1, 2, 3])\n",
        "conf_mat_seed"
      ],
      "execution_count": null,
      "outputs": [
        {
          "output_type": "execute_result",
          "data": {
            "text/plain": [
              "array([[13,  0,  0],\n",
              "       [ 2, 11,  0],\n",
              "       [ 1,  0, 13]])"
            ]
          },
          "metadata": {
            "tags": []
          },
          "execution_count": 26
        }
      ]
    },
    {
      "cell_type": "markdown",
      "metadata": {
        "id": "4i67XiBVi10e"
      },
      "source": [
        "From the variance results, we can find for kama(1) and Rosa(2), feature#1 area and #6 asymmetry are significantly larger than other features, while for Canadian(3), feature#6 are significantly larger than other features.\n",
        "\n",
        "From the mean results, we can find for Kama, Rosa and Canadian, feature#1 area and #2 perimeter are much larger than the other features.\n",
        "\n",
        "From the confusion matrix, we can see that all three classes are bascially correctly classified, with only few wrong predictions.\n",
        "\n",
        "Thus, we can conclude that all three classes are well classifed, the important features are area, perimeter and asymmetry. Recall the conclusion we made from decision tree, We can find that they are consistent."
      ]
    },
    {
      "cell_type": "markdown",
      "metadata": {
        "id": "4pniFwlFmcfP"
      },
      "source": [
        "**For Covid dataset**"
      ]
    },
    {
      "cell_type": "code",
      "metadata": {
        "colab": {
          "base_uri": "https://localhost:8080/"
        },
        "id": "x0CiQxucmbJ4",
        "outputId": "5dc9a6d9-8204-4c12-e1fc-521f140dd9b4"
      },
      "source": [
        "nb_clf_co.sigma_"
      ],
      "execution_count": null,
      "outputs": [
        {
          "output_type": "execute_result",
          "data": {
            "text/plain": [
              "array([[4.85982857, 1.20746539, 3.13294847, 0.6855686 , 0.93530502,\n",
              "        0.93530341, 0.93146352, 0.82072899, 0.84947666, 0.83000319,\n",
              "        0.70230925, 0.68607672, 0.72760836, 0.69861179, 0.69213392,\n",
              "        0.73130084, 0.6855686 , 0.68886219, 0.69138084, 0.69263532,\n",
              "        0.6863306 , 0.71585592, 0.70573395, 0.68759801, 0.6898712 ,\n",
              "        0.68658434, 0.69613065, 0.71322699, 0.73107103, 0.71680802,\n",
              "        0.76535735, 0.68936695, 0.6878511 , 0.6863306 , 0.68810407,\n",
              "        0.68936695, 0.71514049, 0.68658434, 0.89873729, 0.85184448,\n",
              "        0.69238468, 0.70378009, 0.68759801, 0.68810407, 0.6855686 ,\n",
              "        0.6878511 , 0.84977445, 0.84977445],\n",
              "       [5.16526152, 1.33566681, 3.30456936, 0.68531434, 0.93525994,\n",
              "        0.93525994, 0.90103474, 0.91459357, 0.80100663, 0.83666211,\n",
              "        0.69488523, 0.68531434, 0.7105824 , 0.70937514, 0.68911464,\n",
              "        0.70961685, 0.68683795, 0.69037493, 0.68886219, 0.69188302,\n",
              "        0.6855686 , 0.71965189, 0.71250729, 0.68734478, 0.69188302,\n",
              "        0.68860961, 0.69588183, 0.71752073, 0.72899692, 0.71894267,\n",
              "        0.75232534, 0.69012313, 0.68734478, 0.68658434, 0.69188302,\n",
              "        0.69338646, 0.71178642, 0.6855686 , 0.91202938, 0.84510058,\n",
              "        0.69112956, 0.71009988, 0.68582272, 0.68683795, 0.68582272,\n",
              "        0.68531434, 0.85533412, 0.85533412],\n",
              "       [1.99837243, 1.21765112, 3.21238836, 0.68531434, 0.93493998,\n",
              "        0.93493998, 0.75585598, 0.75907682, 0.77799143, 0.88339811,\n",
              "        0.69738497, 0.68531434, 0.73249344, 0.6966393 , 0.69188967,\n",
              "        0.73134529, 0.68556885, 0.69163839, 0.69038006, 0.69464516,\n",
              "        0.68556885, 0.72368623, 0.70915695, 0.68531434, 0.68582324,\n",
              "        0.68734685, 0.69439531, 0.73478001, 0.74954631, 0.71084874,\n",
              "        0.75671772, 0.69163839, 0.68658563, 0.68531434, 0.6860775 ,\n",
              "        0.68886579, 0.71778994, 0.68556885, 0.92160007, 0.77084362,\n",
              "        0.68658563, 0.71301457, 0.68531434, 0.69289348, 0.68556885,\n",
              "        0.6860775 , 0.86893727, 0.86893727]])"
            ]
          },
          "metadata": {
            "tags": []
          },
          "execution_count": 27
        }
      ]
    },
    {
      "cell_type": "code",
      "metadata": {
        "colab": {
          "base_uri": "https://localhost:8080/"
        },
        "id": "IXvZGYCXmmec",
        "outputId": "448a56ac-e22e-4799-8361-8505f059dd72"
      },
      "source": [
        "nb_clf_co.theta_"
      ],
      "execution_count": null,
      "outputs": [
        {
          "output_type": "execute_result",
          "data": {
            "text/plain": [
              "array([[ 3.72711089e+00,  4.37276721e+01, -7.95856928e+01,\n",
              "         2.54323499e-04,  5.03051882e-01,  4.96693795e-01,\n",
              "         4.37945066e-01,  1.61495422e-01,  2.07019329e-01,\n",
              "         1.75483215e-01,  1.72939980e-02,  7.62970498e-04,\n",
              "         4.42522889e-02,  1.34791455e-02,  6.86673449e-03,\n",
              "         4.83214649e-02,  2.54323499e-04,  3.56052899e-03,\n",
              "         6.10376399e-03,  7.37538149e-03,  1.01729400e-03,\n",
              "         3.15361139e-02,  2.08545270e-02,  2.28891150e-03,\n",
              "         4.57782299e-03,  1.27161750e-03,  1.09359105e-02,\n",
              "         2.87385554e-02,  4.80671414e-02,  3.25534079e-02,\n",
              "         8.77416073e-02,  4.06917599e-03,  2.54323499e-03,\n",
              "         1.01729400e-03,  2.79755849e-03,  4.06917599e-03,\n",
              "         3.07731434e-02,  1.27161750e-03,  3.08748728e-01,\n",
              "         2.11088505e-01,  7.12105799e-03,  1.88199390e-02,\n",
              "         2.28891150e-03,  2.79755849e-03,  2.54323499e-04,\n",
              "         2.54323499e-03,  7.92472024e-01,  2.07527976e-01],\n",
              "       [ 3.96871821e+00,  4.37716101e+01, -7.96252793e+01,\n",
              "         0.00000000e+00,  5.07375381e-01,  4.92624619e-01,\n",
              "         3.14852492e-01,  3.56052899e-01,  1.33519837e-01,\n",
              "         1.85910478e-01,  9.66429298e-03,  0.00000000e+00,\n",
              "         2.59409969e-02,  2.46693795e-02,  3.81485249e-03,\n",
              "         2.49237030e-02,  1.52594100e-03,  5.08646999e-03,\n",
              "         3.56052899e-03,  6.61241099e-03,  2.54323499e-04,\n",
              "         3.56052899e-02,  2.79755849e-02,  2.03458800e-03,\n",
              "         6.61241099e-03,  3.30620549e-03,  1.06815870e-02,\n",
              "         3.33163784e-02,  4.57782299e-02,  3.48423194e-02,\n",
              "         7.22278739e-02,  4.83214649e-03,  2.03458800e-03,\n",
              "         1.27161750e-03,  6.61241099e-03,  8.13835198e-03,\n",
              "         2.72126144e-02,  2.54323499e-04,  3.47405900e-01,\n",
              "         1.99643947e-01,  5.84944049e-03,  2.54323499e-02,\n",
              "         5.08646999e-04,  1.52594100e-03,  5.08646999e-04,\n",
              "         0.00000000e+00,  7.82807731e-01,  2.17192269e-01],\n",
              "       [ 7.82866599e+00,  4.37227783e+01, -7.94720340e+01,\n",
              "         0.00000000e+00,  5.19348269e-01,  4.80651731e-01,\n",
              "         7.63747454e-02,  8.01934827e-02,  1.03360489e-01,\n",
              "         7.27851324e-01,  1.22199593e-02,  0.00000000e+00,\n",
              "         4.96435845e-02,  1.14562118e-02,  6.61914460e-03,\n",
              "         4.83706721e-02,  2.54582485e-04,  6.36456212e-03,\n",
              "         5.09164969e-03,  9.41955193e-03,  2.54582485e-04,\n",
              "         3.99694501e-02,  2.44399185e-02,  0.00000000e+00,\n",
              "         5.09164969e-04,  2.03665988e-03,  9.16496945e-03,\n",
              "         5.21894094e-02,  6.89918534e-02,  2.62219959e-02,\n",
              "         7.73930754e-02,  6.36456212e-03,  1.27291242e-03,\n",
              "         0.00000000e+00,  7.63747454e-04,  3.56415479e-03,\n",
              "         3.36048880e-02,  2.54582485e-04,  3.82892057e-01,\n",
              "         9.44501018e-02,  1.27291242e-03,  2.85132383e-02,\n",
              "         0.00000000e+00,  7.63747454e-03,  2.54582485e-04,\n",
              "         7.63747454e-04,  2.42362525e-01,  7.57637475e-01]])"
            ]
          },
          "metadata": {
            "tags": []
          },
          "execution_count": 28
        }
      ]
    },
    {
      "cell_type": "code",
      "metadata": {
        "colab": {
          "base_uri": "https://localhost:8080/"
        },
        "id": "x4oPdlDmmtqK",
        "outputId": "d879826c-3821-401d-d07f-fafac8bb3173"
      },
      "source": [
        "y_pred_covid = nb_clf_co.predict(X_covid_test)\n",
        "conf_mat_covid = confusion_matrix(\n",
        "        y_covid_test, y_pred_covid, labels = [0, 1, 2])\n",
        "conf_mat_covid"
      ],
      "execution_count": null,
      "outputs": [
        {
          "output_type": "execute_result",
          "data": {
            "text/plain": [
              "array([[679, 193, 116],\n",
              "       [469, 371, 134],\n",
              "       [ 50,  31, 906]])"
            ]
          },
          "metadata": {
            "tags": []
          },
          "execution_count": 29
        }
      ]
    },
    {
      "cell_type": "markdown",
      "metadata": {
        "id": "wj4BPyKcnKzk"
      },
      "source": [
        "From the variance results, three features: `Age_Group`, `Reporting_PHU_Latitude`,\t`Reporting_PHU_Longitude` have variance larger than 1, the other features are all lower than 1. This is true for all three labels.\n",
        "\n",
        "From the mean results, these three features again, with absolute value much higher than other features, and this is true for all three labels.\n",
        "\n",
        "This result is kind of different from previous results of decision tree. Recall previously we find `Age_Group` and `Outbreak` are the two important features, but we missed `Latitude` and `Longitude`. Notice that this is the results from decision tree of depth of 3, it could be possible that we are missing some important features, especially previous seperation performance is not good enough. We then rerun the tree plot for depth=5, and features `Latitude` and `Longitude` did show up as important features. (The figure for depth=5 is too large to fit the screen thus omitted here.)\n",
        "\n",
        "From the results of confusion matrix, we can find the case 'fatal' is better seperated compared to 'Resolved' and 'Not Resolved'. The latter two features are especially not well seperated with each other. This result is consistent with what we get from previous decision tree plot."
      ]
    }
  ]
}